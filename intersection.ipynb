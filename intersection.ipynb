{
 "cells": [
  {
   "cell_type": "markdown",
   "metadata": {},
   "source": [
    "### Задание\n",
    "<br>Даны два отсортированных списка с временными интервалами, когда пользователи были в сети. Начало интервала строго меньше конца. Напишите функцию, которая находит интервалы, когда оба пользователя были онлайн.\n",
    "\n",
    "intersection(\n",
    "  [[8, 12], [17, 22]],\n",
    "  [[5, 11], [14, 18], [20, 23]]\n",
    ") // [[8, 11], [17, 18], [20, 22]]\n",
    "\n",
    "intersection(\n",
    "  [[9, 15], [18, 21]],\n",
    "  [[10, 14], [21, 22]]\n",
    ") // [[10, 14]]\n",
    "</br>"
   ]
  },
  {
   "cell_type": "code",
   "execution_count": 52,
   "metadata": {},
   "outputs": [],
   "source": [
    "def intersection(list1, list2):\n",
    "    result_list = []\n",
    "    \n",
    "    for i in range(len(list1)):\n",
    "        for j in range(len(list2)):\n",
    "            int_list = []\n",
    "            \n",
    "            if list1[i][0] > list2[j][0] and list1[i][0] < list2[j][1]:\n",
    "                int_list.append(list1[i][0])\n",
    "                if list1[i][1] < list2[j][1]:\n",
    "                    int_list.append(list1[i][1])\n",
    "                    \n",
    "                elif list1[i][1] >= list2[j][1]:\n",
    "                    int_list.append(list2[j][1])\n",
    "                    \n",
    "                result_list.append(int_list)\n",
    "    for j in range(len(list2)):\n",
    "        for i in range(len(list1)):\n",
    "            int_list = []\n",
    "            if list2[j][0] > list1[i][0] and list2[j][0] < list1[i][1]:\n",
    "                int_list.append(list2[j][0])\n",
    "                if list2[j][1] < list1[i][1]:\n",
    "                    int_list.append(list2[j][1])\n",
    "                elif list2[j][1] >= list1[i][1]:\n",
    "                    int_list.append(list1[i][1])\n",
    "                \n",
    "                result_list.append(int_list)    \n",
    "    return result_list\n",
    "                    "
   ]
  },
  {
   "cell_type": "code",
   "execution_count": 53,
   "metadata": {},
   "outputs": [
    {
     "name": "stdout",
     "output_type": "stream",
     "text": [
      "[[8, 11], [17, 18], [20, 22]]\n"
     ]
    }
   ],
   "source": [
    "print(intersection([[8, 12], [17, 22]], [[5, 11], [14, 18], [20, 23]]))"
   ]
  },
  {
   "cell_type": "code",
   "execution_count": 54,
   "metadata": {},
   "outputs": [
    {
     "name": "stdout",
     "output_type": "stream",
     "text": [
      "[[10, 14]]\n"
     ]
    }
   ],
   "source": [
    "print(intersection(\n",
    "  [[9, 15], [18, 21]],\n",
    "  [[10, 14], [21, 22]]\n",
    "))"
   ]
  },
  {
   "cell_type": "code",
   "execution_count": null,
   "metadata": {},
   "outputs": [],
   "source": []
  },
  {
   "cell_type": "code",
   "execution_count": null,
   "metadata": {},
   "outputs": [],
   "source": []
  }
 ],
 "metadata": {
  "kernelspec": {
   "display_name": "Python 3",
   "language": "python",
   "name": "python3"
  },
  "language_info": {
   "codemirror_mode": {
    "name": "ipython",
    "version": 3
   },
   "file_extension": ".py",
   "mimetype": "text/x-python",
   "name": "python",
   "nbconvert_exporter": "python",
   "pygments_lexer": "ipython3",
   "version": "3.7.1"
  }
 },
 "nbformat": 4,
 "nbformat_minor": 2
}
