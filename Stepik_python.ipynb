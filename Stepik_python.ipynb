{
 "cells": [
  {
   "cell_type": "code",
   "execution_count": 1,
   "metadata": {
    "scrolled": true
   },
   "outputs": [
    {
     "ename": "SyntaxError",
     "evalue": "Missing parentheses in call to 'print'. Did you mean print(\"Hello\")? (<ipython-input-1-dabf489e9f92>, line 1)",
     "output_type": "error",
     "traceback": [
      "\u001b[0;36m  File \u001b[0;32m\"<ipython-input-1-dabf489e9f92>\"\u001b[0;36m, line \u001b[0;32m1\u001b[0m\n\u001b[0;31m    print \"Hello\"\u001b[0m\n\u001b[0m                ^\u001b[0m\n\u001b[0;31mSyntaxError\u001b[0m\u001b[0;31m:\u001b[0m Missing parentheses in call to 'print'. Did you mean print(\"Hello\")?\n"
     ]
    }
   ],
   "source": [
    "print \"Hello\""
   ]
  },
  {
   "cell_type": "code",
   "execution_count": 2,
   "metadata": {},
   "outputs": [
    {
     "name": "stdout",
     "output_type": "stream",
     "text": [
      "hello\n"
     ]
    }
   ],
   "source": [
    "print (\"hello\")"
   ]
  },
  {
   "cell_type": "code",
   "execution_count": 3,
   "metadata": {},
   "outputs": [
    {
     "ename": "NameError",
     "evalue": "name 'cls' is not defined",
     "output_type": "error",
     "traceback": [
      "\u001b[0;31m---------------------------------------------------------------------------\u001b[0m",
      "\u001b[0;31mNameError\u001b[0m                                 Traceback (most recent call last)",
      "\u001b[0;32m<ipython-input-3-4b94d9d35cf3>\u001b[0m in \u001b[0;36m<module>\u001b[0;34m()\u001b[0m\n\u001b[0;32m----> 1\u001b[0;31m \u001b[0mcls\u001b[0m\u001b[0;34m\u001b[0m\u001b[0m\n\u001b[0m",
      "\u001b[0;31mNameError\u001b[0m: name 'cls' is not defined"
     ]
    }
   ],
   "source": [
    "cls"
   ]
  },
  {
   "cell_type": "code",
   "execution_count": 4,
   "metadata": {},
   "outputs": [],
   "source": [
    "a =3"
   ]
  },
  {
   "cell_type": "code",
   "execution_count": 5,
   "metadata": {},
   "outputs": [
    {
     "data": {
      "text/plain": [
       "3"
      ]
     },
     "execution_count": 5,
     "metadata": {},
     "output_type": "execute_result"
    }
   ],
   "source": [
    "a"
   ]
  },
  {
   "cell_type": "code",
   "execution_count": 6,
   "metadata": {},
   "outputs": [],
   "source": [
    "a +=4\n"
   ]
  },
  {
   "cell_type": "code",
   "execution_count": 7,
   "metadata": {},
   "outputs": [
    {
     "data": {
      "text/plain": [
       "7"
      ]
     },
     "execution_count": 7,
     "metadata": {},
     "output_type": "execute_result"
    }
   ],
   "source": [
    "a"
   ]
  },
  {
   "cell_type": "code",
   "execution_count": 10,
   "metadata": {},
   "outputs": [
    {
     "name": "stdout",
     "output_type": "stream",
     "text": [
      "Enter your nameDmitry\n",
      "Hello, Dmitry\n"
     ]
    }
   ],
   "source": [
    "name = input('Enter your name')\n",
    "print('Hello,', name)"
   ]
  },
  {
   "cell_type": "code",
   "execution_count": 11,
   "metadata": {},
   "outputs": [
    {
     "ename": "SyntaxError",
     "evalue": "Missing parentheses in call to 'print'. Did you mean print(a*2)? (<ipython-input-11-5588e747974a>, line 2)",
     "output_type": "error",
     "traceback": [
      "\u001b[0;36m  File \u001b[0;32m\"<ipython-input-11-5588e747974a>\"\u001b[0;36m, line \u001b[0;32m2\u001b[0m\n\u001b[0;31m    print a*2\u001b[0m\n\u001b[0m          ^\u001b[0m\n\u001b[0;31mSyntaxError\u001b[0m\u001b[0;31m:\u001b[0m Missing parentheses in call to 'print'. Did you mean print(a*2)?\n"
     ]
    }
   ],
   "source": [
    "a = int(input())\n",
    "print a*2"
   ]
  },
  {
   "cell_type": "code",
   "execution_count": 12,
   "metadata": {},
   "outputs": [
    {
     "name": "stdout",
     "output_type": "stream",
     "text": [
      "3\n",
      "6\n"
     ]
    }
   ],
   "source": [
    "a = int(input())\n",
    "print (a*2)\n"
   ]
  },
  {
   "cell_type": "code",
   "execution_count": 13,
   "metadata": {},
   "outputs": [
    {
     "name": "stdout",
     "output_type": "stream",
     "text": [
      "2\n",
      "3\n",
      "6\n"
     ]
    }
   ],
   "source": [
    "a = int(input())\n",
    "b= int(input())\n",
    "print(a*b)"
   ]
  },
  {
   "cell_type": "code",
   "execution_count": 23,
   "metadata": {},
   "outputs": [
    {
     "name": "stdout",
     "output_type": "stream",
     "text": [
      "40\n",
      "0 \n",
      " 40\n"
     ]
    }
   ],
   "source": [
    "X = int(input())\n",
    "print(X//60,'\\n',X%60)\n"
   ]
  },
  {
   "cell_type": "code",
   "execution_count": 21,
   "metadata": {},
   "outputs": [
    {
     "name": "stdout",
     "output_type": "stream",
     "text": [
      "40\n",
      "0\n",
      "40\n"
     ]
    }
   ],
   "source": [
    "X=int(input())\n",
    "print(f\"{X//60}\\n{X%60}\")"
   ]
  },
  {
   "cell_type": "code",
   "execution_count": 27,
   "metadata": {},
   "outputs": [
    {
     "name": "stdout",
     "output_type": "stream",
     "text": [
      "475\n",
      "1\n",
      "55\n",
      "9\n",
      "50\n"
     ]
    }
   ],
   "source": [
    "X = int(input())\n",
    "H = int(input())\n",
    "M = int(input())\n",
    "M = X%60+M\n",
    "a = M//60\n",
    "b = M%60\n",
    "print(X//60+H+a, b, sep ='\\n')"
   ]
  },
  {
   "cell_type": "code",
   "execution_count": 1,
   "metadata": {},
   "outputs": [
    {
     "data": {
      "text/plain": [
       "True"
      ]
     },
     "execution_count": 1,
     "metadata": {},
     "output_type": "execute_result"
    }
   ],
   "source": [
    "x = 5\n",
    "y = 10\n",
    "y > x * x or y >= 2 * x and x < y"
   ]
  },
  {
   "cell_type": "code",
   "execution_count": 2,
   "metadata": {},
   "outputs": [
    {
     "name": "stdout",
     "output_type": "stream",
     "text": [
      "\n"
     ]
    },
    {
     "ename": "ValueError",
     "evalue": "invalid literal for int() with base 10: ''",
     "output_type": "error",
     "traceback": [
      "\u001b[0;31m---------------------------------------------------------------------------\u001b[0m",
      "\u001b[0;31mValueError\u001b[0m                                Traceback (most recent call last)",
      "\u001b[0;32m<ipython-input-2-dae6f217c42b>\u001b[0m in \u001b[0;36m<module>\u001b[0;34m()\u001b[0m\n\u001b[0;32m----> 1\u001b[0;31m \u001b[0mA\u001b[0m \u001b[0;34m=\u001b[0m \u001b[0mint\u001b[0m\u001b[0;34m(\u001b[0m\u001b[0minput\u001b[0m\u001b[0;34m(\u001b[0m\u001b[0;34m)\u001b[0m\u001b[0;34m)\u001b[0m\u001b[0;34m\u001b[0m\u001b[0m\n\u001b[0m\u001b[1;32m      2\u001b[0m \u001b[0mB\u001b[0m \u001b[0;34m=\u001b[0m \u001b[0mint\u001b[0m\u001b[0;34m(\u001b[0m\u001b[0minput\u001b[0m\u001b[0;34m(\u001b[0m\u001b[0;34m)\u001b[0m\u001b[0;34m)\u001b[0m\u001b[0;34m\u001b[0m\u001b[0m\n\u001b[1;32m      3\u001b[0m \u001b[0mH\u001b[0m \u001b[0;34m=\u001b[0m \u001b[0mint\u001b[0m\u001b[0;34m(\u001b[0m\u001b[0minput\u001b[0m\u001b[0;34m(\u001b[0m\u001b[0;34m)\u001b[0m\u001b[0;34m)\u001b[0m\u001b[0;34m\u001b[0m\u001b[0m\n\u001b[1;32m      4\u001b[0m \u001b[0;32mif\u001b[0m \u001b[0mH\u001b[0m \u001b[0;34m<=\u001b[0m \u001b[0mB\u001b[0m \u001b[0;32mand\u001b[0m \u001b[0mH\u001b[0m \u001b[0;34m>=\u001b[0m \u001b[0mA\u001b[0m\u001b[0;34m:\u001b[0m\u001b[0;34m\u001b[0m\u001b[0m\n\u001b[1;32m      5\u001b[0m     \u001b[0mprint\u001b[0m\u001b[0;34m(\u001b[0m\u001b[0;34m'Это нормально'\u001b[0m\u001b[0;34m)\u001b[0m\u001b[0;34m\u001b[0m\u001b[0m\n",
      "\u001b[0;31mValueError\u001b[0m: invalid literal for int() with base 10: ''"
     ]
    }
   ],
   "source": [
    "A = int(input())\n",
    "B = int(input())\n",
    "H = int(input())\n",
    "if H <= B and H >= A:\n",
    "    print('Это нормально')\n",
    "elif H < A:\n",
    "    print('Недосып')\n",
    "elif H > A:\n",
    "        print('Пересып')"
   ]
  },
  {
   "cell_type": "code",
   "execution_count": 10,
   "metadata": {},
   "outputs": [
    {
     "name": "stdout",
     "output_type": "stream",
     "text": [
      "Введите год 1900-3000 1904\n"
     ]
    },
    {
     "ename": "TypeError",
     "evalue": "can't multiply sequence by non-int of type 'tuple'",
     "output_type": "error",
     "traceback": [
      "\u001b[0;31m---------------------------------------------------------------------------\u001b[0m",
      "\u001b[0;31mTypeError\u001b[0m                                 Traceback (most recent call last)",
      "\u001b[0;32m<ipython-input-10-603a9ddb30e5>\u001b[0m in \u001b[0;36m<module>\u001b[0;34m()\u001b[0m\n\u001b[1;32m      1\u001b[0m \u001b[0mY\u001b[0m \u001b[0;34m=\u001b[0m \u001b[0mint\u001b[0m\u001b[0;34m(\u001b[0m\u001b[0minput\u001b[0m\u001b[0;34m(\u001b[0m\u001b[0;34m'Введите год 1900-3000 '\u001b[0m\u001b[0;34m)\u001b[0m\u001b[0;34m)\u001b[0m\u001b[0;34m\u001b[0m\u001b[0m\n\u001b[1;32m      2\u001b[0m \u001b[0;32mif\u001b[0m \u001b[0mY\u001b[0m \u001b[0;34m>=\u001b[0m \u001b[0;36m1900\u001b[0m \u001b[0;32mand\u001b[0m \u001b[0mY\u001b[0m \u001b[0;34m<=\u001b[0m \u001b[0;36m3000\u001b[0m\u001b[0;34m:\u001b[0m\u001b[0;34m\u001b[0m\u001b[0m\n\u001b[0;32m----> 3\u001b[0;31m     \u001b[0mprint\u001b[0m\u001b[0;34m(\u001b[0m\u001b[0;34m'Високосный'\u001b[0m\u001b[0;34m*\u001b[0m\u001b[0;34m(\u001b[0m\u001b[0mY\u001b[0m \u001b[0;34m%\u001b[0m \u001b[0;36m4\u001b[0m \u001b[0;34m==\u001b[0m \u001b[0;36m0\u001b[0m\u001b[0;34m)\u001b[0m \u001b[0;34m*\u001b[0m \u001b[0;34m(\u001b[0m\u001b[0mY\u001b[0m \u001b[0;34m%\u001b[0m \u001b[0;36m100\u001b[0m \u001b[0;34m!=\u001b[0m \u001b[0;36m0\u001b[0m\u001b[0;34m)\u001b[0m \u001b[0;34m+\u001b[0m \u001b[0;34m'Невисокосный'\u001b[0m\u001b[0;34m*\u001b[0m\u001b[0;34m(\u001b[0m\u001b[0;34m)\u001b[0m\u001b[0;34m)\u001b[0m\u001b[0;34m\u001b[0m\u001b[0m\n\u001b[0m\u001b[1;32m      4\u001b[0m \u001b[0;32melse\u001b[0m\u001b[0;34m:\u001b[0m\u001b[0;34m\u001b[0m\u001b[0m\n\u001b[1;32m      5\u001b[0m     \u001b[0mprint\u001b[0m\u001b[0;34m(\u001b[0m\u001b[0;34m'Ошибка ввода!'\u001b[0m\u001b[0;34m)\u001b[0m\u001b[0;34m\u001b[0m\u001b[0m\n",
      "\u001b[0;31mTypeError\u001b[0m: can't multiply sequence by non-int of type 'tuple'"
     ]
    }
   ],
   "source": [
    "Y = int(input('Введите год 1900-3000 '))\n",
    "if Y >= 1900 and Y <= 3000:\n",
    "    print('Високосный'*(Y % 4 == 0) * (Y % 100 != 0) + 'Невисокосный'*())\n",
    "else:\n",
    "    print('Ошибка ввода!')"
   ]
  },
  {
   "cell_type": "code",
   "execution_count": 16,
   "metadata": {},
   "outputs": [
    {
     "name": "stdout",
     "output_type": "stream",
     "text": [
      "3\n",
      "4\n",
      "5\n",
      "6.0\n"
     ]
    }
   ],
   "source": [
    "import math\n",
    "a = int(input())\n",
    "b = int(input())\n",
    "c = int(input())\n",
    "p = (a+b+c)/2\n",
    "print(math.sqrt(p*(p-a)*(p-b)*(p-c)))"
   ]
  },
  {
   "cell_type": "code",
   "execution_count": 4,
   "metadata": {},
   "outputs": [
    {
     "name": "stdout",
     "output_type": "stream",
     "text": [
      "0\n",
      "0\n"
     ]
    }
   ],
   "source": [
    "a = int(input())\n",
    "print(a%10)\n"
   ]
  },
  {
   "cell_type": "code",
   "execution_count": 4,
   "metadata": {},
   "outputs": [
    {
     "name": "stdout",
     "output_type": "stream",
     "text": [
      "13\n",
      "9\n"
     ]
    }
   ],
   "source": [
    "i = 0\n",
    "k = 0\n",
    "while i <= 10:\n",
    "    k += 1\n",
    "    i = i + 1\n",
    "    if i > 7:\n",
    "        i = i + 2\n",
    "print(i)\n",
    "print(k)"
   ]
  },
  {
   "cell_type": "code",
   "execution_count": 2,
   "metadata": {},
   "outputs": [
    {
     "name": "stdout",
     "output_type": "stream",
     "text": [
      "*\n",
      "**\n",
      "*\n",
      "*\n",
      "**\n",
      "*\n",
      "***\n",
      "*\n",
      "**\n",
      "***\n",
      "17\n"
     ]
    }
   ],
   "source": [
    "i = 0\n",
    "k = 0\n",
    "while i < 5:\n",
    "    print('*')\n",
    "    k +=1\n",
    "    if i % 2 == 0:\n",
    "        print('**')\n",
    "        k+=2\n",
    "    if i > 2:\n",
    "        print('***')\n",
    "        k+=3\n",
    "    i = i + 1\n",
    "print(k)"
   ]
  },
  {
   "cell_type": "code",
   "execution_count": 21,
   "metadata": {},
   "outputs": [
    {
     "name": "stdout",
     "output_type": "stream",
     "text": [
      "0\n"
     ]
    }
   ],
   "source": [
    "#k = int(input())\n",
    "#if k != 0:\n",
    "k = 1\n",
    "sum = 0\n",
    "while i != 0:\n",
    "    k = int(input())\n",
    "    sum += k\n",
    "print(sum)"
   ]
  },
  {
   "cell_type": "markdown",
   "metadata": {},
   "source": [
    "### "
   ]
  },
  {
   "cell_type": "code",
   "execution_count": 35,
   "metadata": {},
   "outputs": [
    {
     "name": "stdout",
     "output_type": "stream",
     "text": [
      "3\n",
      "4\n"
     ]
    }
   ],
   "source": [
    "a = int(input())\n",
    "b = int(input())\n",
    "if a == b:\n",
    "    print(a)\n",
    "elif a == 1 or b%a == 0:\n",
    "    print(b)\n",
    "elif b == 1 or a%b == 0:\n",
    "    print(a)\n",
    "else:\n",
    "    i = 0\n",
    "    while i%a != 0 and i&b != 0:\n",
    "        i += 1\n",
    "        print(i)\n",
    "        \n",
    "    \n"
   ]
  },
  {
   "cell_type": "code",
   "execution_count": 2,
   "metadata": {},
   "outputs": [
    {
     "name": "stdout",
     "output_type": "stream",
     "text": [
      "1\n",
      "1\n",
      "1\n"
     ]
    }
   ],
   "source": [
    "a = int(input())\n",
    "b = int(input())\n",
    "i = min(a, b)\n",
    "while True:\n",
    "    if i%a==0 and i%b==0:\n",
    "        break\n",
    "    i += 1\n",
    "print(i)"
   ]
  },
  {
   "cell_type": "code",
   "execution_count": 36,
   "metadata": {},
   "outputs": [
    {
     "name": "stdout",
     "output_type": "stream",
     "text": [
      "7\n"
     ]
    }
   ],
   "source": [
    "i = 0\n",
    "s = 0\n",
    "while i < 10:\n",
    "    i = i + 1\n",
    "    s = s + i\n",
    "    if s > 15:\n",
    "        break\n",
    "    i = i + 1\n",
    "print(i)"
   ]
  },
  {
   "cell_type": "code",
   "execution_count": 37,
   "metadata": {},
   "outputs": [
    {
     "name": "stdout",
     "output_type": "stream",
     "text": [
      "10\n"
     ]
    }
   ],
   "source": [
    "i = 0\n",
    "s = 0\n",
    "while i < 10:\n",
    "    i = i + 1\n",
    "    s = s + i\n",
    "    if s > 15:\n",
    "        continue\n",
    "    i = i + 1\n",
    "print(i)"
   ]
  },
  {
   "cell_type": "code",
   "execution_count": 8,
   "metadata": {},
   "outputs": [
    {
     "name": "stdout",
     "output_type": "stream",
     "text": [
      "1\n",
      "2\n",
      "3\n",
      "5\n",
      "101\n"
     ]
    }
   ],
   "source": [
    "num = 0\n",
    "while num <= 100:\n",
    "    num = int(input())\n",
    "    if num < 10: \n",
    "        continue \n",
    "    elif num > 100:\n",
    "        break\n",
    "    else: \n",
    "        print(num)\n",
    "    \n"
   ]
  },
  {
   "cell_type": "code",
   "execution_count": 78,
   "metadata": {},
   "outputs": [
    {
     "name": "stdout",
     "output_type": "stream",
     "text": [
      "7 10 5 6\n",
      "\t5\t6\t\n",
      "7\t35\t42\t\n",
      "8\t40\t48\t\n",
      "9\t45\t54\t\n",
      "10\t50\t60\t\n"
     ]
    }
   ],
   "source": [
    "a, b, c, d = input().split()\n",
    "a = int(a)\n",
    "b = int(b)\n",
    "c = int(c)\n",
    "d = int(d)\n",
    "\n",
    "a = int(input())\n",
    "b = int(input())\n",
    "c = int(input())\n",
    "d = int(input())\n",
    "if a > b or c > d:\n",
    "    print('Ошибка ввода')\n",
    "else:\n",
    "    for j in range(c-1,d+1):\n",
    "        if j == c-1:\n",
    "            print('', end='\\t')\n",
    "        else:\n",
    "            print(j, end='\\t')\n",
    "    print('')       \n",
    "    for i in range(a,b+1): \n",
    "        pr = 1\n",
    "        for j in range(c-1,d+1): \n",
    "            if j == c-1:\n",
    "                print(i, end='\\t')\n",
    "            else:\n",
    "                pr = i*j\n",
    "                print(pr, end='\\t')\n",
    "        print('')    \n",
    "                  \n",
    "       "
   ]
  },
  {
   "cell_type": "markdown",
   "metadata": {},
   "source": [
    "3## d = {0:1, 1:2, 2:3}\n",
    "sum(d)"
   ]
  },
  {
   "cell_type": "code",
   "execution_count": 15,
   "metadata": {},
   "outputs": [
    {
     "name": "stdout",
     "output_type": "stream",
     "text": [
      "\n"
     ]
    },
    {
     "ename": "ValueError",
     "evalue": "invalid literal for int() with base 10: ''",
     "output_type": "error",
     "traceback": [
      "\u001b[0;31m---------------------------------------------------------------------------\u001b[0m",
      "\u001b[0;31mValueError\u001b[0m                                Traceback (most recent call last)",
      "\u001b[0;32m<ipython-input-15-268b2c7870d5>\u001b[0m in \u001b[0;36m<module>\u001b[0;34m()\u001b[0m\n\u001b[0;32m----> 1\u001b[0;31m \u001b[0ma\u001b[0m \u001b[0;34m=\u001b[0m \u001b[0mint\u001b[0m\u001b[0;34m(\u001b[0m\u001b[0minput\u001b[0m\u001b[0;34m(\u001b[0m\u001b[0;34m)\u001b[0m\u001b[0;34m)\u001b[0m\u001b[0;34m\u001b[0m\u001b[0m\n\u001b[0m\u001b[1;32m      2\u001b[0m \u001b[0mb\u001b[0m \u001b[0;34m=\u001b[0m \u001b[0mint\u001b[0m\u001b[0;34m(\u001b[0m\u001b[0minput\u001b[0m\u001b[0;34m(\u001b[0m\u001b[0;34m)\u001b[0m\u001b[0;34m)\u001b[0m\u001b[0;34m\u001b[0m\u001b[0m\n\u001b[1;32m      3\u001b[0m \u001b[0mk1\u001b[0m \u001b[0;34m=\u001b[0m \u001b[0;36m0\u001b[0m\u001b[0;34m\u001b[0m\u001b[0m\n\u001b[1;32m      4\u001b[0m \u001b[0mk2\u001b[0m \u001b[0;34m=\u001b[0m \u001b[0;36m0\u001b[0m\u001b[0;34m\u001b[0m\u001b[0m\n\u001b[1;32m      5\u001b[0m \u001b[0mf1\u001b[0m \u001b[0;34m=\u001b[0m \u001b[0;36m0\u001b[0m\u001b[0;34m\u001b[0m\u001b[0m\n",
      "\u001b[0;31mValueError\u001b[0m: invalid literal for int() with base 10: ''"
     ]
    }
   ],
   "source": [
    "a = int(input())\n",
    "b = int(input())\n",
    "k1 = 0\n",
    "k2 = 0\n",
    "f1 = 0\n",
    "f2 = 0\n",
    "for i in range(a, b+1):\n",
    "    k1+=1\n",
    "    if i%3 == 0:\n",
    "        continue\n",
    "    else:\n",
    "        k2+=1\n",
    "if k1 == k2:\n",
    "    print('Ошибка ввода!')\n",
    "else:\n",
    "    for j in range(a, b+1):\n",
    "        if j%3 == 0:\n",
    "            f1+=1\n",
    "            f2+=j\n",
    "        else:\n",
    "            continue\n",
    "print(f2/f1)\n",
    "        "
   ]
  },
  {
   "cell_type": "code",
   "execution_count": 23,
   "metadata": {},
   "outputs": [
    {
     "name": "stdout",
     "output_type": "stream",
     "text": [
      "QIGhuCuhhghic\n",
      "30.76923076923077\n",
      "13\n",
      "4\n"
     ]
    }
   ],
   "source": [
    "st = input()\n",
    "sst = st.lower()\n",
    "j = 0\n",
    "kol = 0\n",
    "for i in sst:\n",
    "    kol += 1\n",
    "    if i == 'g' or i == 'c':\n",
    "        j += 1\n",
    "print(j/kol*100)\n",
    "print(kol)\n",
    "print(j)\n"
   ]
  },
  {
   "cell_type": "code",
   "execution_count": 115,
   "metadata": {
    "scrolled": true
   },
   "outputs": [
    {
     "name": "stdout",
     "output_type": "stream",
     "text": [
      "qwwwqwwwq\n",
      "q1w3q1w3q1\n"
     ]
    }
   ],
   "source": [
    "s = input()\n",
    "s1 = ''\n",
    "s2 = ''\n",
    "s3 = ''\n",
    "for i in range(len(s)):\n",
    "    if s.count(s[i]) > 1 and s[i] != s2:\n",
    "        s2 = s[i]\n",
    "        s3 = s[i:]\n",
    "        k = 0\n",
    "        for j in range(len(s3)):\n",
    "            if s3[j] == s[i]:\n",
    "                k += 1\n",
    "            else:\n",
    "                break\n",
    "        s1 = s1 + s[i] + str(k)\n",
    "    else:\n",
    "        if s[i] != s2:\n",
    "            s1 = s1 + s[i] + '1'\n",
    "            s2 = ''\n",
    "print(s1)\n",
    "    \n",
    "\n"
   ]
  },
  {
   "cell_type": "code",
   "execution_count": 117,
   "metadata": {},
   "outputs": [
    {
     "name": "stdout",
     "output_type": "stream",
     "text": [
      "qqqqwwwqqq\n",
      "q4w3q3\n"
     ]
    }
   ],
   "source": [
    "\n",
    "dna = input()                    # считываем строку\n",
    "print(dna[0],end='')             # выводим первый символ\n",
    "cnt = 1                          # счетчик символов на единице\n",
    "for i in range(0,len(dna)-1):    # итератор проходит по всем индексам символов кроме предпоследнего\n",
    "    if dna[i] == dna[i+1]:       # сравниваем символ по текущему индексу со следующим\n",
    "        cnt+=1                   # если символы одинаковые, то увеличиваем счетчик\n",
    "    else :\n",
    "        print(cnt,end='')        # если разные, то выводим значение счетчика\n",
    "        print(dna[i+1],end='')   # выводим следующий символ\n",
    "        cnt = 1                  # счетчик текущего символа на единице\n",
    "print(cnt)"
   ]
  },
  {
   "cell_type": "code",
   "execution_count": 119,
   "metadata": {},
   "outputs": [
    {
     "name": "stdout",
     "output_type": "stream",
     "text": [
      "['Ivan', 'Masha', 'Sasha', 'Olga', 'O', 'l', 'g', 'a']\n"
     ]
    }
   ],
   "source": [
    "students = ['Ivan', 'Masha', 'Sasha']\n",
    "students += ['Olga']\n",
    "students += 'Olga'\n",
    "print(students)"
   ]
  },
  {
   "cell_type": "code",
   "execution_count": 120,
   "metadata": {},
   "outputs": [
    {
     "name": "stdout",
     "output_type": "stream",
     "text": [
      "[20, 10, 3]\n",
      "[20, 10, 3]\n"
     ]
    }
   ],
   "source": [
    "a = [1, 2, 3]\n",
    "b = a\n",
    "# значения списка b?\n",
    "\n",
    "a[1] = 10\n",
    "# значения списка b?\n",
    "\n",
    "b[0] = 20\n",
    "print(b)\n",
    "\n",
    "a = [5, 6]\n",
    "print(b)"
   ]
  },
  {
   "cell_type": "code",
   "execution_count": 44,
   "metadata": {},
   "outputs": [
    {
     "name": "stdout",
     "output_type": "stream",
     "text": [
      "1 2 3\n",
      "6\n",
      "['1', '2', '3']\n"
     ]
    }
   ],
   "source": [
    "str = input().split(' ')\n",
    "sum = 0\n",
    "for i in range(len(str)):\n",
    "    sum += int(str[i])\n",
    "print(sum)\n",
    "print(str)\n"
   ]
  },
  {
   "cell_type": "code",
   "execution_count": 65,
   "metadata": {},
   "outputs": [
    {
     "name": "stdout",
     "output_type": "stream",
     "text": [
      "1 2 3 4 5 6\n",
      "8 4 6 8 10 6 "
     ]
    }
   ],
   "source": [
    "st = [int(i) for i in input().split(' ')]\n",
    "st1 = []  \n",
    "if len(st) == 1:\n",
    "    print(st[0])\n",
    "else:\n",
    "    for i in range(len(st)):\n",
    "        st1 += '1'\n",
    "    for i in range(len(st)):\n",
    "        if i == 0:\n",
    "            st1[i] = st[-1] + st[i + 1]\n",
    "        elif i == len(st) - 1:\n",
    "            st1[i] = st[i - 1] + st[0]\n",
    "        else:\n",
    "            st1[i] = st[i - 1] + st[i + 1]\n",
    "    \n",
    "    for i in range(len(st)):\n",
    "        print(st1[i],end=' ')\n",
    "        "
   ]
  },
  {
   "cell_type": "markdown",
   "metadata": {},
   "source": [
    "# "
   ]
  },
  {
   "cell_type": "code",
   "execution_count": 39,
   "metadata": {},
   "outputs": [
    {
     "name": "stdout",
     "output_type": "stream",
     "text": [
      "1\n"
     ]
    }
   ],
   "source": [
    "st =  input().split(' ')\n",
    "st.sort()\n",
    "if st.count(st[0]) == len(st) and len(st) != 1:\n",
    "    print(st[0])\n",
    "else:\n",
    "    i = 0\n",
    "    while i <= (len(st)):\n",
    "        k = st.count(st[i])\n",
    "        if k > 1:\n",
    "            print(st[i], end = ' ')\n",
    "            i += k\n",
    "            if i >= len(st):\n",
    "                break\n",
    "            else:\n",
    "                continue\n",
    "        else:\n",
    "            i += 1\n",
    "            if i >= len(st):\n",
    "                break\n",
    "            else:\n",
    "                continue           "
   ]
  },
  {
   "cell_type": "code",
   "execution_count": 22,
   "metadata": {},
   "outputs": [
    {
     "name": "stderr",
     "output_type": "stream",
     "text": [
      "/Users/d-man/anaconda3/lib/python3.6/site-packages/ipykernel_launcher.py:7: RuntimeWarning: invalid value encountered in log\n",
      "  import sys\n"
     ]
    },
    {
     "data": {
      "text/plain": [
       "[<matplotlib.lines.Line2D at 0x113f330f0>]"
      ]
     },
     "execution_count": 22,
     "metadata": {},
     "output_type": "execute_result"
    },
    {
     "data": {
      "image/png": "[encoded data removed]",
      "text/plain": [
       "<Figure size 432x288 with 1 Axes>"
      ]
     },
     "metadata": {},
     "output_type": "display_data"
    }
   ],
   "source": [
    "import numpy as np\n",
    "%matplotlib inline\n",
    "import matplotlib.pyplot as plt\n",
    "# Генерируем последовательность чисел от -10 до 10 с 100 шагами\n",
    "x = np.linspace(-10, 10, 10000)\n",
    "# Создаем второй массив с помощью синуса\n",
    "y = np.log(x)\n",
    "# Функция создает линейный график на основе двух массивов plt.plot(x, y, marker=\"x\")\n",
    "plt.plot(x, y, marker=\"x\")"
   ]
  },
  {
   "cell_type": "code",
   "execution_count": 23,
   "metadata": {},
   "outputs": [
    {
     "data": {
      "text/html": [
       "<div>\n",
       "<style scoped>\n",
       "    .dataframe tbody tr th:only-of-type {\n",
       "        vertical-align: middle;\n",
       "    }\n",
       "\n",
       "    .dataframe tbody tr th {\n",
       "        vertical-align: top;\n",
       "    }\n",
       "\n",
       "    .dataframe thead th {\n",
       "        text-align: right;\n",
       "    }\n",
       "</style>\n",
       "<table border=\"1\" class=\"dataframe\">\n",
       "  <thead>\n",
       "    <tr style=\"text-align: right;\">\n",
       "      <th></th>\n",
       "      <th>Name</th>\n",
       "      <th>Location</th>\n",
       "      <th>Age</th>\n",
       "    </tr>\n",
       "  </thead>\n",
       "  <tbody>\n",
       "    <tr>\n",
       "      <th>0</th>\n",
       "      <td>John</td>\n",
       "      <td>New York</td>\n",
       "      <td>24</td>\n",
       "    </tr>\n",
       "    <tr>\n",
       "      <th>1</th>\n",
       "      <td>Anna</td>\n",
       "      <td>Paris</td>\n",
       "      <td>13</td>\n",
       "    </tr>\n",
       "    <tr>\n",
       "      <th>2</th>\n",
       "      <td>Peter</td>\n",
       "      <td>Berlin</td>\n",
       "      <td>53</td>\n",
       "    </tr>\n",
       "    <tr>\n",
       "      <th>3</th>\n",
       "      <td>Linda</td>\n",
       "      <td>London</td>\n",
       "      <td>33</td>\n",
       "    </tr>\n",
       "  </tbody>\n",
       "</table>\n",
       "</div>"
      ],
      "text/plain": [
       "    Name  Location  Age\n",
       "0   John  New York   24\n",
       "1   Anna     Paris   13\n",
       "2  Peter    Berlin   53\n",
       "3  Linda    London   33"
      ]
     },
     "metadata": {},
     "output_type": "display_data"
    }
   ],
   "source": [
    "import pandas as pd\n",
    "# создаем простой набор данных с характеристиками пользователей\n",
    "data = {'Name': [\"John\", \"Anna\", \"Peter\", \"Linda\"],\n",
    "'Location' : [\"New York\", \"Paris\", \"Berlin\", \"London\"], 'Age' : [24, 13, 53, 33]\n",
    "}\n",
    "data_pandas = pd.DataFrame(data)\n",
    "# IPython.display позволяет \"красиво напечатать\" датафреймы # в Jupyter notebook\n",
    "display(data_pandas)\n"
   ]
  },
  {
   "cell_type": "code",
   "execution_count": 69,
   "metadata": {},
   "outputs": [
    {
     "name": "stdout",
     "output_type": "stream",
     "text": [
      "1\n",
      "-1\n",
      "2\n"
     ]
    }
   ],
   "source": [
    "flag = 0\n",
    "k0 = 0\n",
    "while flag != 1: \n",
    "    n = int(input())\n",
    "    if n == 0:\n",
    "        k0 += 1\n",
    "        if k0 == 2:\n",
    "            print(n)\n",
    "    else:\n",
    "        sum1 = n\n",
    "        sum_sq = n**2\n",
    "        while sum1 != 0:\n",
    "            m = int(input())\n",
    "            sum_sq += m**2\n",
    "            sum1 += m\n",
    "        flag += 1\n",
    "print(sum_sq)        "
   ]
  },
  {
   "cell_type": "markdown",
   "metadata": {},
   "source": []
  },
  {
   "cell_type": "code",
   "execution_count": 80,
   "metadata": {},
   "outputs": [
    {
     "name": "stdout",
     "output_type": "stream",
     "text": [
      "1\n",
      "-1\n",
      "2\n"
     ]
    }
   ],
   "source": [
    "sum1 = 0\n",
    "sum_sq = 0\n",
    "while True:\n",
    "    n = int(input())\n",
    "    sum1 += n\n",
    "    sum_sq += n**2\n",
    "    if sum1 == 0:\n",
    "        break  \n",
    "print(sum_sq)"
   ]
  },
  {
   "cell_type": "code",
   "execution_count": 146,
   "metadata": {},
   "outputs": [
    {
     "name": "stdout",
     "output_type": "stream",
     "text": [
      "2\n",
      "1 2 "
     ]
    }
   ],
   "source": [
    "n = int(input())\n",
    "a = []\n",
    "flag = 0\n",
    "for k in range(1, n+1):\n",
    "    for i in range(0, k):\n",
    "        flag += 1\n",
    "        if flag <= n:\n",
    "            a += [str(k)]\n",
    "        elif flag == n:\n",
    "            break\n",
    "for j in range(len(a)):\n",
    "    print(a[j], end = ' ')\n"
   ]
  },
  {
   "cell_type": "code",
   "execution_count": 6,
   "metadata": {},
   "outputs": [
    {
     "name": "stdout",
     "output_type": "stream",
     "text": [
      "1 2 2 3 3 4\n",
      "2\n",
      "1 2 "
     ]
    }
   ],
   "source": [
    "st = [int(i) for i in input().split(' ')]\n",
    "n = int(input())\n",
    "if n not in st:\n",
    "    print(\"Отсутсвует\")\n",
    "else:\n",
    "    for i in range(len(st)):\n",
    "        if st[i] == n:\n",
    "            print(i, end = ' ')\n"
   ]
  },
  {
   "cell_type": "code",
   "execution_count": null,
   "metadata": {},
   "outputs": [],
   "source": [
    "sum_str = 0\n",
    "st = [int(i) for i in input().split(' ')]\n",
    "sum_col = len(st)\n",
    "while True:\n",
    "    st = [int(i) for i in input().split(' ')]\n",
    "    if sum_col == len(st)\n",
    "    sum_str +=1\n",
    "    sum_col = len(st)\n",
    "    "
   ]
  },
  {
   "cell_type": "code",
   "execution_count": null,
   "metadata": {},
   "outputs": [],
   "source": []
  },
  {
   "cell_type": "markdown",
   "metadata": {},
   "source": []
  },
  {
   "cell_type": "code",
   "execution_count": 126,
   "metadata": {},
   "outputs": [],
   "source": [
    "#Напишите программу, на вход которой подаётся прямоугольная матрица в виде последовательности строк, заканчивающихся строкой, содержащей только строку \"end\" (без кавычек)\n",
    "\n",
    "#Программа должна вывести матрицу того же размера, у которой каждый элемент в позиции i, j равен сумме элементов первой матрицы на позициях (i-1, j), (i+1, j), (i, j-1), (i, j+1). У крайних символов соседний элемент находится с противоположной стороны матрицы.\n",
    "\n",
    "#В случае одной строки/столбца элемент сам себе является соседом по соответствующему направлению."
   ]
  },
  {
   "cell_type": "code",
   "execution_count": 124,
   "metadata": {},
   "outputs": [
    {
     "name": "stdout",
     "output_type": "stream",
     "text": [
      "1\n",
      "1\n",
      "1\n",
      "1\n",
      "end\n",
      "4 \n",
      "4 \n",
      "4 \n",
      "4 \n"
     ]
    }
   ],
   "source": [
    "h = 0\n",
    "w = 0\n",
    "s = [[]]\n",
    "list1 = input().split(' ')\n",
    "s[0] = list1\n",
    "w = len(list1)\n",
    "while True:\n",
    "    h += 1\n",
    "    list1 = input().split(' ')\n",
    "    if list1 == ['end']:\n",
    "        break\n",
    "    ss = [[]]\n",
    "    s.append(ss)\n",
    "    s[h] = list1\n",
    "if h == 1 and w == 1:\n",
    "    t = int(s[0][0])\n",
    "    print(t * 4)\n",
    "\n",
    "else:\n",
    "    for i in range(len(s)):\n",
    "        for j in range(len(s[i])):\n",
    "            s[i][j] = int(s[i][j])\n",
    "    a = [[0 for i in range(0, w)] for j in range(0, h)]\n",
    "    for i in range(h):\n",
    "        for j in range(w):\n",
    "            if h == 1:\n",
    "                if i == 0 and j == 0: \n",
    "                    a[i][j] = s[i][j] + s[i][j] + s[i][-1] + s[i][j+1]\n",
    "                elif i == 0 and j == w - 1:\n",
    "                    a[i][j] = s[i][j] + s[i][j] + s[i][j-1] + s[i][0]\n",
    "                elif i == 0 and 1 <= j <= w - 2:\n",
    "                    a[i][j] = s[i][j] + s[i][j] + s[i][j-1] + s[i][j+1]\n",
    "            elif w == 1:\n",
    "                if i == 0 and j == 0:\n",
    "                    a[i][j] = s[-1][j] + s[i+1][j] + s[i][j] + s[i][j]\n",
    "                elif i == h - 1 and j == 0:\n",
    "                    a[i][j] = s[i-1][j] + s[0][j] + s[i][j] + s[i][j]\n",
    "                elif 1 <= i <= h - 2 and  j == 0:\n",
    "                    a[i][j] = s[i-1][j] + s[i+1][j] + s[i][j] + s[i][j]\n",
    "            else:  \n",
    "                if i == 0 and j == 0:\n",
    "                    a[i][j] = s[-1][j] + s[i+1][j] + s[i][-1] + s[i][j+1]  \n",
    "                elif i == h - 1 and j == w - 1:\n",
    "                    a[i][j] = s[i-1][j] + s[0][j] + s[i][j-1] + s[i][0]  \n",
    "                elif i == 0 and j == w - 1:\n",
    "                    a[i][j] = s[-1][j] + s[i+1][j] + s[i][j-1] + s[i][0]  \n",
    "                elif i == h - 1  and j == 0:\n",
    "                    a[i][j] = s[i-1][j] + s[0][j] + s[i][-1] + s[i][j+1]\n",
    "                elif h >= 3 or w >= 3:\n",
    "                    if 1 <= i <= h - 2 and  j == 0: \n",
    "                        a[i][j] = s[i-1][j] + s[i+1][j] + s[i][-1] + s[i][j+1]\n",
    "                    elif 1 <= i <= h - 2 and j == w - 1:\n",
    "                        a[i][j] = s[i-1][j] + s[i+1][j] + s[i][j-1] + s[i][0]\n",
    "                    elif i == 0 and 1 <= j <= w - 2:\n",
    "                        a[i][j] = s[-1][j] + s[i+1][j] + s[i][j-1] + s[i][j+1]\n",
    "                    elif i == h - 1 and 1 <= j <= w - 2:\n",
    "                        a[i][j] = s[i-1][j] + s[0][j] + s[i][j-1] + s[i][j+1]\n",
    "                    else:\n",
    "                        a[i][j] = s[i-1][j] + s[i+1][j] + s[i][j-1] + s[i][j+1]\n",
    "    for i in range(len(a)):\n",
    "        for j in range(len(a[i])):\n",
    "            print(a[i][j], end = ' ')\n",
    "        print()"
   ]
  },
  {
   "cell_type": "code",
   "execution_count": 4,
   "metadata": {},
   "outputs": [
    {
     "name": "stdout",
     "output_type": "stream",
     "text": [
      "1 1 1 1\n",
      "1 1 1 1\n",
      "1 1 1 1\n",
      "1 1 1 1\n",
      "end\n",
      "4 6 6 4 \n",
      "6 9 9 6 \n",
      "6 9 9 6 \n",
      "4 6 6 4 \n"
     ]
    }
   ],
   "source": [
    "h = 0\n",
    "w = 0\n",
    "s = [[]]\n",
    "list1 = input().split(' ')\n",
    "s[0] = list1\n",
    "w = len(list1)\n",
    "while True:\n",
    "    h += 1\n",
    "    list1 = input().split(' ')\n",
    "    if list1 == ['end']:\n",
    "        break\n",
    "    ss = [[]]\n",
    "    s.append(ss)\n",
    "    s[h] = list1\n",
    "if h == 1 and w == 1:\n",
    "    t = int(s[0][0])\n",
    "    print(t * 4)\n",
    "else:\n",
    "    for i in range(len(s)):\n",
    "        for j in range(len(s[i])):\n",
    "            s[i][j] = int(s[i][j])\n",
    "    a = [[0 for i in range(0, w)] for j in range(0, h)]\n",
    "    for i in range(h):\n",
    "        for j in range(w):\n",
    "            if a[i][j] == 0:\n",
    "                for di in range(-1, 2):\n",
    "                    for dj in range(-1, 2):\n",
    "                        ai = i + di\n",
    "                        aj = j + dj\n",
    "                        if 0 <= ai <= h - 1 and 0 <= aj <= w - 1:\n",
    "                            a[i][j] += s[ai][aj] \n",
    "    for i in range(len(a)):\n",
    "        for j in range(len(a[i])):\n",
    "            print(a[i][j], end = ' ')\n",
    "        print()                       "
   ]
  },
  {
   "cell_type": "code",
   "execution_count": null,
   "metadata": {},
   "outputs": [],
   "source": []
  },
  {
   "cell_type": "code",
   "execution_count": 132,
   "metadata": {},
   "outputs": [
    {
     "data": {
      "text/plain": [
       "10555"
      ]
     },
     "execution_count": 132,
     "metadata": {},
     "output_type": "execute_result"
    }
   ],
   "source": [
    "def f(n):\n",
    "    return n * 10 + 5\n",
    "f(f(f(10)))"
   ]
  },
  {
   "cell_type": "code",
   "execution_count": 3,
   "metadata": {},
   "outputs": [],
   "source": [
    "def f(a):\n",
    "    if a <= -2:\n",
    "        return 1 - (a + 2) ** 2\n",
    "    elif -2 < a <= 2:\n",
    "        return - (a / 2)\n",
    "    elif a > 2:\n",
    "        return (a - 2) ** 2 + 1\n",
    "\n"
   ]
  },
  {
   "cell_type": "code",
   "execution_count": 105,
   "metadata": {},
   "outputs": [],
   "source": [
    "def modify_list(l):\n",
    "    m = []\n",
    "    cnt_del = 0\n",
    "    \n",
    "    for i in range(len(l)):\n",
    "        m.append(l[i])  \n",
    "    for i in range(len(m)):\n",
    "        if m[i] % 2 == 0:       \n",
    "            l[i-cnt_del] = m[i] // 2 \n",
    "            print('update', i, m[i] // 2,  l)\n",
    "        else:\n",
    "            cnt_del += 1\n",
    "            if i > 0: \n",
    "                l_del_val = l[i-cnt_del]\n",
    "                l.pop(i-cnt_del)\n",
    "                print('delete', i, l_del_val, l)\n",
    "            else:\n",
    "                l_del_val = l[i]\n",
    "                l.pop(i)\n",
    "                print('delete', i, l_del_val, l)\n",
    "            \n",
    "    \n",
    "    \n",
    "    \n",
    "    "
   ]
  },
  {
   "cell_type": "code",
   "execution_count": 106,
   "metadata": {},
   "outputs": [
    {
     "name": "stdout",
     "output_type": "stream",
     "text": [
      "update 0 5 [5, 5, 8, 3]\n",
      "delete 1 5 [5, 8, 3]\n",
      "update 2 4 [5, 4, 3]\n",
      "delete 3 4 [5, 3]\n",
      "[5, 3]\n"
     ]
    }
   ],
   "source": [
    "lst = [10, 5, 8, 3]\n",
    "modify_list(lst)\n",
    "print(lst)  "
   ]
  },
  {
   "cell_type": "code",
   "execution_count": 107,
   "metadata": {},
   "outputs": [
    {
     "name": "stdout",
     "output_type": "stream",
     "text": [
      "delete 0 1 [2, 3, 4]\n",
      "update 1 1 [1, 3, 4]\n",
      "delete 2 1 [3, 4]\n",
      "update 3 2 [3, 2]\n",
      "[3, 2]\n"
     ]
    }
   ],
   "source": [
    "lst = [1, 2, 3, 4]\n",
    "modify_list(lst)\n",
    "print(lst)  "
   ]
  },
  {
   "cell_type": "code",
   "execution_count": 62,
   "metadata": {},
   "outputs": [
    {
     "ename": "IndexError",
     "evalue": "list assignment index out of range",
     "output_type": "error",
     "traceback": [
      "\u001b[0;31m---------------------------------------------------------------------------\u001b[0m",
      "\u001b[0;31mIndexError\u001b[0m                                Traceback (most recent call last)",
      "\u001b[0;32m<ipython-input-62-3f618704b8ee>\u001b[0m in \u001b[0;36m<module>\u001b[0;34m\u001b[0m\n\u001b[1;32m      1\u001b[0m \u001b[0mlst\u001b[0m \u001b[0;34m=\u001b[0m \u001b[0;34m[\u001b[0m\u001b[0;36m1\u001b[0m\u001b[0;34m,\u001b[0m \u001b[0;36m2\u001b[0m\u001b[0;34m,\u001b[0m \u001b[0;36m3\u001b[0m\u001b[0;34m,\u001b[0m \u001b[0;36m4\u001b[0m\u001b[0;34m,\u001b[0m \u001b[0;36m5\u001b[0m\u001b[0;34m,\u001b[0m \u001b[0;36m6\u001b[0m\u001b[0;34m]\u001b[0m\u001b[0;34m\u001b[0m\u001b[0;34m\u001b[0m\u001b[0m\n\u001b[0;32m----> 2\u001b[0;31m \u001b[0mprint\u001b[0m\u001b[0;34m(\u001b[0m\u001b[0mmodify_list\u001b[0m\u001b[0;34m(\u001b[0m\u001b[0mlst\u001b[0m\u001b[0;34m)\u001b[0m\u001b[0;34m)\u001b[0m  \u001b[0;31m# None\u001b[0m\u001b[0;34m\u001b[0m\u001b[0;34m\u001b[0m\u001b[0m\n\u001b[0m\u001b[1;32m      3\u001b[0m \u001b[0mprint\u001b[0m\u001b[0;34m(\u001b[0m\u001b[0mlst\u001b[0m\u001b[0;34m)\u001b[0m               \u001b[0;31m# [1, 2, 3]\u001b[0m\u001b[0;34m\u001b[0m\u001b[0;34m\u001b[0m\u001b[0m\n\u001b[1;32m      4\u001b[0m \u001b[0mmodify_list\u001b[0m\u001b[0;34m(\u001b[0m\u001b[0mlst\u001b[0m\u001b[0;34m)\u001b[0m\u001b[0;34m\u001b[0m\u001b[0;34m\u001b[0m\u001b[0m\n\u001b[1;32m      5\u001b[0m \u001b[0mprint\u001b[0m\u001b[0;34m(\u001b[0m\u001b[0mlst\u001b[0m\u001b[0;34m)\u001b[0m               \u001b[0;31m# [1]\u001b[0m\u001b[0;34m\u001b[0m\u001b[0;34m\u001b[0m\u001b[0m\n",
      "\u001b[0;32m<ipython-input-60-54e4d70e3824>\u001b[0m in \u001b[0;36mmodify_list\u001b[0;34m(l)\u001b[0m\n\u001b[1;32m      6\u001b[0m     \u001b[0;32mfor\u001b[0m \u001b[0mi\u001b[0m \u001b[0;32min\u001b[0m \u001b[0mrange\u001b[0m\u001b[0;34m(\u001b[0m\u001b[0mlen\u001b[0m\u001b[0;34m(\u001b[0m\u001b[0mm\u001b[0m\u001b[0;34m)\u001b[0m\u001b[0;34m)\u001b[0m\u001b[0;34m:\u001b[0m\u001b[0;34m\u001b[0m\u001b[0;34m\u001b[0m\u001b[0m\n\u001b[1;32m      7\u001b[0m         \u001b[0;32mif\u001b[0m \u001b[0mm\u001b[0m\u001b[0;34m[\u001b[0m\u001b[0mi\u001b[0m\u001b[0;34m]\u001b[0m \u001b[0;34m%\u001b[0m \u001b[0;36m2\u001b[0m \u001b[0;34m==\u001b[0m \u001b[0;36m0\u001b[0m\u001b[0;34m:\u001b[0m\u001b[0;34m\u001b[0m\u001b[0;34m\u001b[0m\u001b[0m\n\u001b[0;32m----> 8\u001b[0;31m             \u001b[0ml\u001b[0m\u001b[0;34m[\u001b[0m\u001b[0mi\u001b[0m\u001b[0;34m+\u001b[0m\u001b[0mcnt_del\u001b[0m\u001b[0;34m]\u001b[0m \u001b[0;34m=\u001b[0m \u001b[0mm\u001b[0m\u001b[0;34m[\u001b[0m\u001b[0mi\u001b[0m\u001b[0;34m]\u001b[0m \u001b[0;34m//\u001b[0m \u001b[0;36m2\u001b[0m\u001b[0;34m\u001b[0m\u001b[0;34m\u001b[0m\u001b[0m\n\u001b[0m\u001b[1;32m      9\u001b[0m         \u001b[0;32melse\u001b[0m\u001b[0;34m:\u001b[0m\u001b[0;34m\u001b[0m\u001b[0;34m\u001b[0m\u001b[0m\n\u001b[1;32m     10\u001b[0m             \u001b[0mcnt_del\u001b[0m \u001b[0;34m+=\u001b[0m \u001b[0;36m1\u001b[0m\u001b[0;34m\u001b[0m\u001b[0;34m\u001b[0m\u001b[0m\n",
      "\u001b[0;31mIndexError\u001b[0m: list assignment index out of range"
     ]
    }
   ],
   "source": [
    "lst = [1, 2, 3, 4, 5, 6]\n",
    "print(modify_list(lst))  # None\n",
    "print(lst)               # [1, 2, 3]\n",
    "modify_list(lst)\n",
    "print(lst)               # [1]\n",
    "\n",
    "lst = [10, 5, 8, 3]\n",
    "modify_list(lst)\n",
    "print(lst)               # [5, 4]"
   ]
  },
  {
   "cell_type": "code",
   "execution_count": 125,
   "metadata": {},
   "outputs": [],
   "source": [
    "def modify_list(l):\n",
    "    l_zero_cnt = 0\n",
    "    for i in range(len(l)):\n",
    "        if l[i] % 2 == 0:       \n",
    "            l[i] = l[i] // 2\n",
    "        else:\n",
    "            l_zero_cnt += 1\n",
    "            l[i] = '-'\n",
    "    for j in range(0, l_zero_cnt):\n",
    "        l.remove('-')\n",
    "    return "
   ]
  },
  {
   "cell_type": "code",
   "execution_count": 126,
   "metadata": {},
   "outputs": [
    {
     "name": "stdout",
     "output_type": "stream",
     "text": [
      "[1, 2, 0]\n"
     ]
    }
   ],
   "source": [
    "lst = [1, 2, 3, 4, 5, 0]\n",
    "modify_list(lst)\n",
    "print(lst) "
   ]
  },
  {
   "cell_type": "code",
   "execution_count": 124,
   "metadata": {},
   "outputs": [
    {
     "name": "stdout",
     "output_type": "stream",
     "text": [
      "None\n",
      "[1, 2, 3]\n",
      "[1]\n",
      "[5, 4]\n"
     ]
    }
   ],
   "source": [
    "lst = [1, 2, 3, 4, 5, 6]\n",
    "print(modify_list(lst))  # None\n",
    "print(lst)               # [1, 2, 3]\n",
    "modify_list(lst)\n",
    "print(lst)               # [1]\n",
    "\n",
    "lst = [10, 5, 8, 3]\n",
    "modify_list(lst)\n",
    "print(lst)               # [5, 4]"
   ]
  },
  {
   "cell_type": "code",
   "execution_count": 2,
   "metadata": {},
   "outputs": [
    {
     "name": "stdout",
     "output_type": "stream",
     "text": [
      "None\n"
     ]
    }
   ],
   "source": [
    "d = {2: [-1, -2]}\n",
    "print(d.get(3))"
   ]
  },
  {
   "cell_type": "code",
   "execution_count": 17,
   "metadata": {},
   "outputs": [],
   "source": [
    "def update_dictionary(d, key, value):\n",
    "    if d.get(key) == None:\n",
    "        if d.get(key*2) == None:\n",
    "            d.setdefault(key*2, []).append(value)\n",
    "        else:\n",
    "            list_values = d.get(key*2)\n",
    "            list_values.append(value)\n",
    "            d.update({key*2 : list_values})\n",
    "    else:\n",
    "        list_values = d.get(key)\n",
    "        list_values.append(value)\n",
    "        d.update({key : list_values})\n",
    "            \n",
    "    return    \n",
    "        "
   ]
  },
  {
   "cell_type": "code",
   "execution_count": 18,
   "metadata": {},
   "outputs": [
    {
     "name": "stdout",
     "output_type": "stream",
     "text": [
      "None\n",
      "{2: [-1]}\n",
      "{2: [-1, -2]}\n",
      "{2: [-1, -2, -3]}\n"
     ]
    }
   ],
   "source": [
    "d = {}\n",
    "print(update_dictionary(d, 1, -1))  # None\n",
    "print(d)                            # {2: [-1]}\n",
    "update_dictionary(d, 2, -2)\n",
    "print(d)                            # {2: [-1, -2]}\n",
    "update_dictionary(d, 1, -3)\n",
    "print(d)                            # {2: [-1, -2, -3]}"
   ]
  },
  {
   "cell_type": "code",
   "execution_count": 59,
   "metadata": {},
   "outputs": [
    {
     "name": "stdout",
     "output_type": "stream",
     "text": [
      "a aa abC aa ac abc bcd a\n",
      "a 2\n",
      "aa 2\n",
      "abc 2\n",
      "ac 1\n",
      "bcd 1\n"
     ]
    }
   ],
   "source": [
    "words = str(input())\n",
    "word = ''\n",
    "dict_words_cnt = {}\n",
    "param = len(words) - 1\n",
    "\n",
    "for sym in range(len(words)):\n",
    "    if words[sym] != ' ' and sym != param:       \n",
    "        word += words[sym]\n",
    "    elif words[sym] == ' ':        \n",
    "        word = word.lower()\n",
    "        if dict_words_cnt.get(word) == None:\n",
    "            dict_words_cnt.setdefault(word, 1)\n",
    "            word = ''\n",
    "        else:\n",
    "            cnt = dict_words_cnt.get(word)\n",
    "            dict_words_cnt.update({word : cnt+1})\n",
    "            word = ''\n",
    "    elif sym == param:\n",
    "        word += words[sym]\n",
    "        word = word.lower()\n",
    "        if dict_words_cnt.get(word) == None:\n",
    "            dict_words_cnt.setdefault(word, 1)\n",
    "            word = ''\n",
    "        else:\n",
    "            cnt = dict_words_cnt.get(word)\n",
    "            dict_words_cnt.update({word : cnt+1})\n",
    "            word = ''           \n",
    "            \n",
    "for key in dict_words_cnt:\n",
    "    print(key, dict_words_cnt.get(key))\n",
    "    "
   ]
  },
  {
   "cell_type": "markdown",
   "metadata": {},
   "source": [
    "<b>Напишите программу, которая считывает строку с числом \n",
    "n\n",
    "n, которое задаёт количество чисел, которые нужно считать. Далее считывает \n",
    "n\n",
    "n строк с числами \n",
    "x\n",
    "i\n",
    "x \n",
    "i\n",
    "​\t\n",
    " , по одному числу в каждой строке. Итого будет \n",
    "n\n",
    "+\n",
    "1\n",
    "n+1 строк.\n",
    "\n",
    "При считывании числа \n",
    "x\n",
    "i\n",
    "x \n",
    "i\n",
    "​\t\n",
    "  программа должна на отдельной строке вывести значение \n",
    "f\n",
    "(\n",
    "x\n",
    "i\n",
    ")\n",
    "f(x \n",
    "i\n",
    "​\t\n",
    " ). Функция f(x) уже реализована и доступна для вызова. \n",
    "\n",
    "Функция вычисляется достаточно долго и зависит только от переданного аргумента \n",
    "x\n",
    "x. Для того, чтобы уложиться в ограничение по времени, нужно избежать повторного вычисления значений.</b>"
   ]
  },
  {
   "cell_type": "code",
   "execution_count": null,
   "metadata": {},
   "outputs": [],
   "source": [
    "def f(x):\n",
    "    return x+1\n",
    "\n",
    "\n",
    "a = int(input('Введите кол-во чисел: '))\n",
    "dict_calcs_map = {}\n",
    "list_input_params = []\n",
    "list_output_params = []\n",
    "if a == 0:\n",
    "    print('Введите число больше нуля')\n",
    "elif a > 0:\n",
    "    i = 0\n",
    "    while i < a:\n",
    "        i += 1\n",
    "        b = int(input())\n",
    "        list_input_params.append(b)\n",
    "        if dict_calcs_map.get(b) == None:\n",
    "            dict_calcs_map[b] = f(b)\n",
    "            list_output_params.append(dict_calcs_map[b])\n",
    "            #print(dict_calcs_map[b])\n",
    "        else:\n",
    "            #print(dict_calcs_map[b])\n",
    "            list_output_params.append(dict_calcs_map[b])\n",
    "    i = 0\n",
    "    while i < a:\n",
    "        print(list_output_params[i])\n",
    "        i += 1\n",
    "            \n",
    "        \n",
    "        \n",
    "        \n",
    "        \n"
   ]
  },
  {
   "cell_type": "code",
   "execution_count": 8,
   "metadata": {},
   "outputs": [],
   "source": [
    "#input_s = 'a2d1f4g10'\n",
    "with open('dataset_3363_2.txt') as input_file:\n",
    "    input_s = input_file.readline()\n",
    "    \n",
    "output_s = ''\n",
    "\n",
    "buffer_sym = ''\n",
    "buffer_digits = ''\n",
    "list_sym = []\n",
    "list_digits = []\n",
    "\n",
    "#получаем 2 масива: с числами и символами\n",
    "for i in range(len(input_s)):    \n",
    "    if input_s[i].isdigit():\n",
    "        buffer_digits += input_s[i]\n",
    "        if len(buffer_sym) > 0:\n",
    "            list_sym.append(buffer_sym)\n",
    "            buffer_sym = ''\n",
    "    else:\n",
    "        buffer_sym += input_s[i]\n",
    "        if len(buffer_digits) > 0:\n",
    "            list_digits.append(int(buffer_digits))\n",
    "            buffer_digits = ''\n",
    "if len(buffer_digits) > 0:\n",
    "    list_digits.append(int(buffer_digits))\n",
    "if len(buffer_sym) > 0:\n",
    "    list_sym.append(buffer_sym)\n",
    "\n",
    "#размножаем каждый символ в соотв со значением чисел\n",
    "\n",
    "for i in range(len(list_digits)):\n",
    "    output_s += list_digits[i]*list_sym[i]\n",
    "\n",
    "with open('output_file.txt', 'w') as file:\n",
    "    file.write(output_s)"
   ]
  },
  {
   "cell_type": "code",
   "execution_count": 43,
   "metadata": {},
   "outputs": [
    {
     "name": "stdout",
     "output_type": "stream",
     "text": [
      "x   15\n"
     ]
    }
   ],
   "source": [
    "#input_s = 'abc a bCd bC AbC BC BCD bcd ABC'\n",
    "input_s = ''\n",
    "dict_words_cnt = {}\n",
    "word = ''\n",
    "last_index = len(input_s) - 1\n",
    "with open('dataset_3363_3.txt') as input_file:\n",
    "    \n",
    "    for row in input_file:\n",
    "        input_s += row\n",
    "\n",
    "    for i in range(len(input_s)):\n",
    "\n",
    "        if input_s[i] != ' ' and i != last_index:\n",
    "            #print(1)\n",
    "            word += input_s[i]\n",
    "\n",
    "        elif input_s[i] == ' ':\n",
    "            #print(2)\n",
    "            word = word.lower()\n",
    "\n",
    "            if dict_words_cnt.get(word) == None:\n",
    "                dict_words_cnt.setdefault(word, 1)\n",
    "                word = ''\n",
    "            else:\n",
    "                cnt = dict_words_cnt.get(word)\n",
    "                dict_words_cnt.update({word : cnt+1})\n",
    "                word = ''\n",
    "        elif i == last_index:\n",
    "            #print(3)\n",
    "            word += input_s[i]\n",
    "            word = word.lower()\n",
    "            if dict_words_cnt.get(word) == None:\n",
    "                dict_words_cnt.setdefault(word, 1)\n",
    "                word = ''\n",
    "            else:\n",
    "                cnt = dict_words_cnt.get(word)\n",
    "                dict_words_cnt.update({word : cnt+1})\n",
    "                word = ''\n",
    "\n",
    "result_word = max(dict_words_cnt, key=dict_words_cnt.get)\n",
    "result_cnt = dict_words_cnt.get(result_word)\n",
    "print(result_word, ' ', result_cnt)"
   ]
  },
  {
   "cell_type": "code",
   "execution_count": null,
   "metadata": {},
   "outputs": [],
   "source": []
  }
 ],
 "metadata": {
  "celltoolbar": "Raw Cell Format",
  "kernelspec": {
   "display_name": "Python 3",
   "language": "python",
   "name": "python3"
  },
  "language_info": {
   "codemirror_mode": {
    "name": "ipython",
    "version": 3
   },
   "file_extension": ".py",
   "mimetype": "text/x-python",
   "name": "python",
   "nbconvert_exporter": "python",
   "pygments_lexer": "ipython3",
   "version": "3.7.1"
  }
 },
 "nbformat": 4,
 "nbformat_minor": 2
}
